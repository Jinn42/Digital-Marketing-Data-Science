{
 "cells": [
  {
   "cell_type": "code",
   "execution_count": 1,
   "metadata": {},
   "outputs": [],
   "source": [
    "import matplotlib.pyplot as plt\n",
    "import pandas as pd\n",
    "import numpy as np"
   ]
  },
  {
   "cell_type": "code",
   "execution_count": 3,
   "metadata": {},
   "outputs": [
    {
     "data": {
      "text/html": [
       "<div>\n",
       "<style scoped>\n",
       "    .dataframe tbody tr th:only-of-type {\n",
       "        vertical-align: middle;\n",
       "    }\n",
       "\n",
       "    .dataframe tbody tr th {\n",
       "        vertical-align: top;\n",
       "    }\n",
       "\n",
       "    .dataframe thead th {\n",
       "        text-align: right;\n",
       "    }\n",
       "</style>\n",
       "<table border=\"1\" class=\"dataframe\">\n",
       "  <thead>\n",
       "    <tr style=\"text-align: right;\">\n",
       "      <th></th>\n",
       "      <th>InvoiceNo</th>\n",
       "      <th>StockCode</th>\n",
       "      <th>Description</th>\n",
       "      <th>Quantity</th>\n",
       "      <th>InvoiceDate</th>\n",
       "      <th>UnitPrice</th>\n",
       "      <th>CustomerID</th>\n",
       "      <th>Country</th>\n",
       "    </tr>\n",
       "  </thead>\n",
       "  <tbody>\n",
       "    <tr>\n",
       "      <td>0</td>\n",
       "      <td>536365</td>\n",
       "      <td>85123A</td>\n",
       "      <td>WHITE HANGING HEART T-LIGHT HOLDER</td>\n",
       "      <td>6</td>\n",
       "      <td>2010-12-01 08:26:00</td>\n",
       "      <td>2.55</td>\n",
       "      <td>17850.0</td>\n",
       "      <td>United Kingdom</td>\n",
       "    </tr>\n",
       "    <tr>\n",
       "      <td>1</td>\n",
       "      <td>536365</td>\n",
       "      <td>71053</td>\n",
       "      <td>WHITE METAL LANTERN</td>\n",
       "      <td>6</td>\n",
       "      <td>2010-12-01 08:26:00</td>\n",
       "      <td>3.39</td>\n",
       "      <td>17850.0</td>\n",
       "      <td>United Kingdom</td>\n",
       "    </tr>\n",
       "    <tr>\n",
       "      <td>2</td>\n",
       "      <td>536365</td>\n",
       "      <td>84406B</td>\n",
       "      <td>CREAM CUPID HEARTS COAT HANGER</td>\n",
       "      <td>8</td>\n",
       "      <td>2010-12-01 08:26:00</td>\n",
       "      <td>2.75</td>\n",
       "      <td>17850.0</td>\n",
       "      <td>United Kingdom</td>\n",
       "    </tr>\n",
       "    <tr>\n",
       "      <td>3</td>\n",
       "      <td>536365</td>\n",
       "      <td>84029G</td>\n",
       "      <td>KNITTED UNION FLAG HOT WATER BOTTLE</td>\n",
       "      <td>6</td>\n",
       "      <td>2010-12-01 08:26:00</td>\n",
       "      <td>3.39</td>\n",
       "      <td>17850.0</td>\n",
       "      <td>United Kingdom</td>\n",
       "    </tr>\n",
       "    <tr>\n",
       "      <td>4</td>\n",
       "      <td>536365</td>\n",
       "      <td>84029E</td>\n",
       "      <td>RED WOOLLY HOTTIE WHITE HEART.</td>\n",
       "      <td>6</td>\n",
       "      <td>2010-12-01 08:26:00</td>\n",
       "      <td>3.39</td>\n",
       "      <td>17850.0</td>\n",
       "      <td>United Kingdom</td>\n",
       "    </tr>\n",
       "  </tbody>\n",
       "</table>\n",
       "</div>"
      ],
      "text/plain": [
       "  InvoiceNo StockCode                          Description  Quantity  \\\n",
       "0    536365    85123A   WHITE HANGING HEART T-LIGHT HOLDER         6   \n",
       "1    536365     71053                  WHITE METAL LANTERN         6   \n",
       "2    536365    84406B       CREAM CUPID HEARTS COAT HANGER         8   \n",
       "3    536365    84029G  KNITTED UNION FLAG HOT WATER BOTTLE         6   \n",
       "4    536365    84029E       RED WOOLLY HOTTIE WHITE HEART.         6   \n",
       "\n",
       "          InvoiceDate  UnitPrice  CustomerID         Country  \n",
       "0 2010-12-01 08:26:00       2.55     17850.0  United Kingdom  \n",
       "1 2010-12-01 08:26:00       3.39     17850.0  United Kingdom  \n",
       "2 2010-12-01 08:26:00       2.75     17850.0  United Kingdom  \n",
       "3 2010-12-01 08:26:00       3.39     17850.0  United Kingdom  \n",
       "4 2010-12-01 08:26:00       3.39     17850.0  United Kingdom  "
      ]
     },
     "execution_count": 3,
     "metadata": {},
     "output_type": "execute_result"
    }
   ],
   "source": [
    "#Load data\n",
    "df = pd.read_excel('/Users/jinli/Downloads/OnlineRetail.xlsx')\n",
    "df.head()"
   ]
  },
  {
   "cell_type": "code",
   "execution_count": 4,
   "metadata": {},
   "outputs": [
    {
     "data": {
      "text/plain": [
       "(541909, 8)"
      ]
     },
     "execution_count": 4,
     "metadata": {},
     "output_type": "execute_result"
    }
   ],
   "source": [
    "df.shape"
   ]
  },
  {
   "cell_type": "code",
   "execution_count": 6,
   "metadata": {},
   "outputs": [],
   "source": [
    "#Data clean up"
   ]
  },
  {
   "cell_type": "code",
   "execution_count": 8,
   "metadata": {},
   "outputs": [
    {
     "data": {
      "text/plain": [
       "(531285, 8)"
      ]
     },
     "execution_count": 8,
     "metadata": {},
     "output_type": "execute_result"
    }
   ],
   "source": [
    "df=df.loc[df['Quantity']>0]\n",
    "df.shape"
   ]
  },
  {
   "cell_type": "code",
   "execution_count": 9,
   "metadata": {},
   "outputs": [
    {
     "data": {
      "text/plain": [
       "(397924, 8)"
      ]
     },
     "execution_count": 9,
     "metadata": {},
     "output_type": "execute_result"
    }
   ],
   "source": [
    "df = df[pd.notnull(df['CustomerID'])]\n",
    "df.shape"
   ]
  },
  {
   "cell_type": "code",
   "execution_count": 10,
   "metadata": {},
   "outputs": [
    {
     "name": "stdout",
     "output_type": "stream",
     "text": [
      "Date Range: 2010-12-01 08:26:00 ~ 2011-12-09 12:50:00\n"
     ]
    }
   ],
   "source": [
    "print('Date Range: %s ~ %s' % (df['InvoiceDate'].min(), df['InvoiceDate'].max()))\n",
    "df = df.loc[df['InvoiceDate'] < '2011-12-01']"
   ]
  },
  {
   "cell_type": "code",
   "execution_count": 11,
   "metadata": {},
   "outputs": [
    {
     "data": {
      "text/plain": [
       "(380620, 8)"
      ]
     },
     "execution_count": 11,
     "metadata": {},
     "output_type": "execute_result"
    }
   ],
   "source": [
    "df.shape"
   ]
  },
  {
   "cell_type": "code",
   "execution_count": 12,
   "metadata": {},
   "outputs": [
    {
     "data": {
      "text/html": [
       "<div>\n",
       "<style scoped>\n",
       "    .dataframe tbody tr th:only-of-type {\n",
       "        vertical-align: middle;\n",
       "    }\n",
       "\n",
       "    .dataframe tbody tr th {\n",
       "        vertical-align: top;\n",
       "    }\n",
       "\n",
       "    .dataframe thead th {\n",
       "        text-align: right;\n",
       "    }\n",
       "</style>\n",
       "<table border=\"1\" class=\"dataframe\">\n",
       "  <thead>\n",
       "    <tr style=\"text-align: right;\">\n",
       "      <th></th>\n",
       "      <th>InvoiceNo</th>\n",
       "      <th>StockCode</th>\n",
       "      <th>Description</th>\n",
       "      <th>Quantity</th>\n",
       "      <th>InvoiceDate</th>\n",
       "      <th>UnitPrice</th>\n",
       "      <th>CustomerID</th>\n",
       "      <th>Country</th>\n",
       "      <th>Sales</th>\n",
       "    </tr>\n",
       "  </thead>\n",
       "  <tbody>\n",
       "    <tr>\n",
       "      <td>0</td>\n",
       "      <td>536365</td>\n",
       "      <td>85123A</td>\n",
       "      <td>WHITE HANGING HEART T-LIGHT HOLDER</td>\n",
       "      <td>6</td>\n",
       "      <td>2010-12-01 08:26:00</td>\n",
       "      <td>2.55</td>\n",
       "      <td>17850.0</td>\n",
       "      <td>United Kingdom</td>\n",
       "      <td>15.30</td>\n",
       "    </tr>\n",
       "    <tr>\n",
       "      <td>1</td>\n",
       "      <td>536365</td>\n",
       "      <td>71053</td>\n",
       "      <td>WHITE METAL LANTERN</td>\n",
       "      <td>6</td>\n",
       "      <td>2010-12-01 08:26:00</td>\n",
       "      <td>3.39</td>\n",
       "      <td>17850.0</td>\n",
       "      <td>United Kingdom</td>\n",
       "      <td>20.34</td>\n",
       "    </tr>\n",
       "    <tr>\n",
       "      <td>2</td>\n",
       "      <td>536365</td>\n",
       "      <td>84406B</td>\n",
       "      <td>CREAM CUPID HEARTS COAT HANGER</td>\n",
       "      <td>8</td>\n",
       "      <td>2010-12-01 08:26:00</td>\n",
       "      <td>2.75</td>\n",
       "      <td>17850.0</td>\n",
       "      <td>United Kingdom</td>\n",
       "      <td>22.00</td>\n",
       "    </tr>\n",
       "    <tr>\n",
       "      <td>3</td>\n",
       "      <td>536365</td>\n",
       "      <td>84029G</td>\n",
       "      <td>KNITTED UNION FLAG HOT WATER BOTTLE</td>\n",
       "      <td>6</td>\n",
       "      <td>2010-12-01 08:26:00</td>\n",
       "      <td>3.39</td>\n",
       "      <td>17850.0</td>\n",
       "      <td>United Kingdom</td>\n",
       "      <td>20.34</td>\n",
       "    </tr>\n",
       "    <tr>\n",
       "      <td>4</td>\n",
       "      <td>536365</td>\n",
       "      <td>84029E</td>\n",
       "      <td>RED WOOLLY HOTTIE WHITE HEART.</td>\n",
       "      <td>6</td>\n",
       "      <td>2010-12-01 08:26:00</td>\n",
       "      <td>3.39</td>\n",
       "      <td>17850.0</td>\n",
       "      <td>United Kingdom</td>\n",
       "      <td>20.34</td>\n",
       "    </tr>\n",
       "  </tbody>\n",
       "</table>\n",
       "</div>"
      ],
      "text/plain": [
       "  InvoiceNo StockCode                          Description  Quantity  \\\n",
       "0    536365    85123A   WHITE HANGING HEART T-LIGHT HOLDER         6   \n",
       "1    536365     71053                  WHITE METAL LANTERN         6   \n",
       "2    536365    84406B       CREAM CUPID HEARTS COAT HANGER         8   \n",
       "3    536365    84029G  KNITTED UNION FLAG HOT WATER BOTTLE         6   \n",
       "4    536365    84029E       RED WOOLLY HOTTIE WHITE HEART.         6   \n",
       "\n",
       "          InvoiceDate  UnitPrice  CustomerID         Country  Sales  \n",
       "0 2010-12-01 08:26:00       2.55     17850.0  United Kingdom  15.30  \n",
       "1 2010-12-01 08:26:00       3.39     17850.0  United Kingdom  20.34  \n",
       "2 2010-12-01 08:26:00       2.75     17850.0  United Kingdom  22.00  \n",
       "3 2010-12-01 08:26:00       3.39     17850.0  United Kingdom  20.34  \n",
       "4 2010-12-01 08:26:00       3.39     17850.0  United Kingdom  20.34  "
      ]
     },
     "execution_count": 12,
     "metadata": {},
     "output_type": "execute_result"
    }
   ],
   "source": [
    "df['Sales'] = df['Quantity'] * df['UnitPrice']\n",
    "df.head()"
   ]
  },
  {
   "cell_type": "code",
   "execution_count": 13,
   "metadata": {},
   "outputs": [],
   "source": [
    "##- Per Customer Data\n",
    "customer_df = df.groupby('CustomerID').agg({\n",
    "    'Sales': sum,\n",
    "    'InvoiceNo': lambda x: x.nunique()\n",
    "})\n",
    "\n",
    "customer_df.columns = ['TotalSales', 'OrderCount']\n",
    "customer_df['AvgOrderValue'] = customer_df['TotalSales']/customer_df['OrderCount']"
   ]
  },
  {
   "cell_type": "code",
   "execution_count": 14,
   "metadata": {},
   "outputs": [
    {
     "data": {
      "text/html": [
       "<div>\n",
       "<style scoped>\n",
       "    .dataframe tbody tr th:only-of-type {\n",
       "        vertical-align: middle;\n",
       "    }\n",
       "\n",
       "    .dataframe tbody tr th {\n",
       "        vertical-align: top;\n",
       "    }\n",
       "\n",
       "    .dataframe thead th {\n",
       "        text-align: right;\n",
       "    }\n",
       "</style>\n",
       "<table border=\"1\" class=\"dataframe\">\n",
       "  <thead>\n",
       "    <tr style=\"text-align: right;\">\n",
       "      <th></th>\n",
       "      <th>TotalSales</th>\n",
       "      <th>OrderCount</th>\n",
       "      <th>AvgOrderValue</th>\n",
       "    </tr>\n",
       "    <tr>\n",
       "      <th>CustomerID</th>\n",
       "      <th></th>\n",
       "      <th></th>\n",
       "      <th></th>\n",
       "    </tr>\n",
       "  </thead>\n",
       "  <tbody>\n",
       "    <tr>\n",
       "      <td>12346.0</td>\n",
       "      <td>77183.60</td>\n",
       "      <td>1</td>\n",
       "      <td>77183.600000</td>\n",
       "    </tr>\n",
       "    <tr>\n",
       "      <td>12347.0</td>\n",
       "      <td>4085.18</td>\n",
       "      <td>6</td>\n",
       "      <td>680.863333</td>\n",
       "    </tr>\n",
       "    <tr>\n",
       "      <td>12348.0</td>\n",
       "      <td>1797.24</td>\n",
       "      <td>4</td>\n",
       "      <td>449.310000</td>\n",
       "    </tr>\n",
       "    <tr>\n",
       "      <td>12349.0</td>\n",
       "      <td>1757.55</td>\n",
       "      <td>1</td>\n",
       "      <td>1757.550000</td>\n",
       "    </tr>\n",
       "    <tr>\n",
       "      <td>12350.0</td>\n",
       "      <td>334.40</td>\n",
       "      <td>1</td>\n",
       "      <td>334.400000</td>\n",
       "    </tr>\n",
       "  </tbody>\n",
       "</table>\n",
       "</div>"
      ],
      "text/plain": [
       "            TotalSales  OrderCount  AvgOrderValue\n",
       "CustomerID                                       \n",
       "12346.0       77183.60           1   77183.600000\n",
       "12347.0        4085.18           6     680.863333\n",
       "12348.0        1797.24           4     449.310000\n",
       "12349.0        1757.55           1    1757.550000\n",
       "12350.0         334.40           1     334.400000"
      ]
     },
     "execution_count": 14,
     "metadata": {},
     "output_type": "execute_result"
    }
   ],
   "source": [
    "customer_df.head()"
   ]
  },
  {
   "cell_type": "code",
   "execution_count": 15,
   "metadata": {},
   "outputs": [
    {
     "data": {
      "text/html": [
       "<div>\n",
       "<style scoped>\n",
       "    .dataframe tbody tr th:only-of-type {\n",
       "        vertical-align: middle;\n",
       "    }\n",
       "\n",
       "    .dataframe tbody tr th {\n",
       "        vertical-align: top;\n",
       "    }\n",
       "\n",
       "    .dataframe thead th {\n",
       "        text-align: right;\n",
       "    }\n",
       "</style>\n",
       "<table border=\"1\" class=\"dataframe\">\n",
       "  <thead>\n",
       "    <tr style=\"text-align: right;\">\n",
       "      <th></th>\n",
       "      <th>TotalSales</th>\n",
       "      <th>OrderCount</th>\n",
       "      <th>AvgOrderValue</th>\n",
       "    </tr>\n",
       "  </thead>\n",
       "  <tbody>\n",
       "    <tr>\n",
       "      <td>count</td>\n",
       "      <td>4298.000000</td>\n",
       "      <td>4298.000000</td>\n",
       "      <td>4298.000000</td>\n",
       "    </tr>\n",
       "    <tr>\n",
       "      <td>mean</td>\n",
       "      <td>1952.818779</td>\n",
       "      <td>4.131689</td>\n",
       "      <td>400.255621</td>\n",
       "    </tr>\n",
       "    <tr>\n",
       "      <td>std</td>\n",
       "      <td>8354.913254</td>\n",
       "      <td>7.420253</td>\n",
       "      <td>1271.187289</td>\n",
       "    </tr>\n",
       "    <tr>\n",
       "      <td>min</td>\n",
       "      <td>0.000000</td>\n",
       "      <td>1.000000</td>\n",
       "      <td>0.000000</td>\n",
       "    </tr>\n",
       "    <tr>\n",
       "      <td>25%</td>\n",
       "      <td>304.305000</td>\n",
       "      <td>1.000000</td>\n",
       "      <td>178.602500</td>\n",
       "    </tr>\n",
       "    <tr>\n",
       "      <td>50%</td>\n",
       "      <td>657.265000</td>\n",
       "      <td>2.000000</td>\n",
       "      <td>295.033958</td>\n",
       "    </tr>\n",
       "    <tr>\n",
       "      <td>75%</td>\n",
       "      <td>1599.515000</td>\n",
       "      <td>4.000000</td>\n",
       "      <td>431.594250</td>\n",
       "    </tr>\n",
       "    <tr>\n",
       "      <td>max</td>\n",
       "      <td>268478.000000</td>\n",
       "      <td>201.000000</td>\n",
       "      <td>77183.600000</td>\n",
       "    </tr>\n",
       "  </tbody>\n",
       "</table>\n",
       "</div>"
      ],
      "text/plain": [
       "          TotalSales   OrderCount  AvgOrderValue\n",
       "count    4298.000000  4298.000000    4298.000000\n",
       "mean     1952.818779     4.131689     400.255621\n",
       "std      8354.913254     7.420253    1271.187289\n",
       "min         0.000000     1.000000       0.000000\n",
       "25%       304.305000     1.000000     178.602500\n",
       "50%       657.265000     2.000000     295.033958\n",
       "75%      1599.515000     4.000000     431.594250\n",
       "max    268478.000000   201.000000   77183.600000"
      ]
     },
     "execution_count": 15,
     "metadata": {},
     "output_type": "execute_result"
    }
   ],
   "source": [
    "customer_df.describe()"
   ]
  },
  {
   "cell_type": "code",
   "execution_count": 23,
   "metadata": {},
   "outputs": [],
   "source": [
    "#rank: to show the rank btw rows\n",
    "#method=first: for the same number, the rank is in order they appear in the array\n",
    "rank_df = customer_df.rank(method='first')"
   ]
  },
  {
   "cell_type": "code",
   "execution_count": 24,
   "metadata": {},
   "outputs": [
    {
     "data": {
      "text/html": [
       "<div>\n",
       "<style scoped>\n",
       "    .dataframe tbody tr th:only-of-type {\n",
       "        vertical-align: middle;\n",
       "    }\n",
       "\n",
       "    .dataframe tbody tr th {\n",
       "        vertical-align: top;\n",
       "    }\n",
       "\n",
       "    .dataframe thead th {\n",
       "        text-align: right;\n",
       "    }\n",
       "</style>\n",
       "<table border=\"1\" class=\"dataframe\">\n",
       "  <thead>\n",
       "    <tr style=\"text-align: right;\">\n",
       "      <th></th>\n",
       "      <th>TotalSales</th>\n",
       "      <th>OrderCount</th>\n",
       "      <th>AvgOrderValue</th>\n",
       "    </tr>\n",
       "    <tr>\n",
       "      <th>CustomerID</th>\n",
       "      <th></th>\n",
       "      <th></th>\n",
       "      <th></th>\n",
       "    </tr>\n",
       "  </thead>\n",
       "  <tbody>\n",
       "    <tr>\n",
       "      <td>12346.0</td>\n",
       "      <td>4290.0</td>\n",
       "      <td>1.0</td>\n",
       "      <td>4298.0</td>\n",
       "    </tr>\n",
       "    <tr>\n",
       "      <td>12347.0</td>\n",
       "      <td>3958.0</td>\n",
       "      <td>3470.0</td>\n",
       "      <td>3888.0</td>\n",
       "    </tr>\n",
       "    <tr>\n",
       "      <td>12348.0</td>\n",
       "      <td>3350.0</td>\n",
       "      <td>2861.0</td>\n",
       "      <td>3303.0</td>\n",
       "    </tr>\n",
       "    <tr>\n",
       "      <td>12349.0</td>\n",
       "      <td>3321.0</td>\n",
       "      <td>2.0</td>\n",
       "      <td>4238.0</td>\n",
       "    </tr>\n",
       "    <tr>\n",
       "      <td>12350.0</td>\n",
       "      <td>1241.0</td>\n",
       "      <td>3.0</td>\n",
       "      <td>2561.0</td>\n",
       "    </tr>\n",
       "  </tbody>\n",
       "</table>\n",
       "</div>"
      ],
      "text/plain": [
       "            TotalSales  OrderCount  AvgOrderValue\n",
       "CustomerID                                       \n",
       "12346.0         4290.0         1.0         4298.0\n",
       "12347.0         3958.0      3470.0         3888.0\n",
       "12348.0         3350.0      2861.0         3303.0\n",
       "12349.0         3321.0         2.0         4238.0\n",
       "12350.0         1241.0         3.0         2561.0"
      ]
     },
     "execution_count": 24,
     "metadata": {},
     "output_type": "execute_result"
    }
   ],
   "source": [
    "rank_df.head()"
   ]
  },
  {
   "cell_type": "code",
   "execution_count": 25,
   "metadata": {},
   "outputs": [
    {
     "data": {
      "text/html": [
       "<div>\n",
       "<style scoped>\n",
       "    .dataframe tbody tr th:only-of-type {\n",
       "        vertical-align: middle;\n",
       "    }\n",
       "\n",
       "    .dataframe tbody tr th {\n",
       "        vertical-align: top;\n",
       "    }\n",
       "\n",
       "    .dataframe thead th {\n",
       "        text-align: right;\n",
       "    }\n",
       "</style>\n",
       "<table border=\"1\" class=\"dataframe\">\n",
       "  <thead>\n",
       "    <tr style=\"text-align: right;\">\n",
       "      <th></th>\n",
       "      <th>TotalSales</th>\n",
       "      <th>OrderCount</th>\n",
       "      <th>AvgOrderValue</th>\n",
       "    </tr>\n",
       "    <tr>\n",
       "      <th>CustomerID</th>\n",
       "      <th></th>\n",
       "      <th></th>\n",
       "      <th></th>\n",
       "    </tr>\n",
       "  </thead>\n",
       "  <tbody>\n",
       "    <tr>\n",
       "      <td>12346.0</td>\n",
       "      <td>1.724999</td>\n",
       "      <td>-1.731446</td>\n",
       "      <td>1.731446</td>\n",
       "    </tr>\n",
       "    <tr>\n",
       "      <td>12347.0</td>\n",
       "      <td>1.457445</td>\n",
       "      <td>1.064173</td>\n",
       "      <td>1.401033</td>\n",
       "    </tr>\n",
       "    <tr>\n",
       "      <td>12348.0</td>\n",
       "      <td>0.967466</td>\n",
       "      <td>0.573388</td>\n",
       "      <td>0.929590</td>\n",
       "    </tr>\n",
       "    <tr>\n",
       "      <td>12349.0</td>\n",
       "      <td>0.944096</td>\n",
       "      <td>-1.730641</td>\n",
       "      <td>1.683093</td>\n",
       "    </tr>\n",
       "    <tr>\n",
       "      <td>12350.0</td>\n",
       "      <td>-0.732148</td>\n",
       "      <td>-1.729835</td>\n",
       "      <td>0.331622</td>\n",
       "    </tr>\n",
       "  </tbody>\n",
       "</table>\n",
       "</div>"
      ],
      "text/plain": [
       "            TotalSales  OrderCount  AvgOrderValue\n",
       "CustomerID                                       \n",
       "12346.0       1.724999   -1.731446       1.731446\n",
       "12347.0       1.457445    1.064173       1.401033\n",
       "12348.0       0.967466    0.573388       0.929590\n",
       "12349.0       0.944096   -1.730641       1.683093\n",
       "12350.0      -0.732148   -1.729835       0.331622"
      ]
     },
     "execution_count": 25,
     "metadata": {},
     "output_type": "execute_result"
    }
   ],
   "source": [
    "normalized_df = (rank_df - rank_df.mean()) / rank_df.std()\n",
    "normalized_df.head()"
   ]
  },
  {
   "cell_type": "code",
   "execution_count": 26,
   "metadata": {},
   "outputs": [
    {
     "data": {
      "text/html": [
       "<div>\n",
       "<style scoped>\n",
       "    .dataframe tbody tr th:only-of-type {\n",
       "        vertical-align: middle;\n",
       "    }\n",
       "\n",
       "    .dataframe tbody tr th {\n",
       "        vertical-align: top;\n",
       "    }\n",
       "\n",
       "    .dataframe thead th {\n",
       "        text-align: right;\n",
       "    }\n",
       "</style>\n",
       "<table border=\"1\" class=\"dataframe\">\n",
       "  <thead>\n",
       "    <tr style=\"text-align: right;\">\n",
       "      <th></th>\n",
       "      <th>TotalSales</th>\n",
       "      <th>OrderCount</th>\n",
       "      <th>AvgOrderValue</th>\n",
       "    </tr>\n",
       "  </thead>\n",
       "  <tbody>\n",
       "    <tr>\n",
       "      <td>count</td>\n",
       "      <td>4.298000e+03</td>\n",
       "      <td>4.298000e+03</td>\n",
       "      <td>4.298000e+03</td>\n",
       "    </tr>\n",
       "    <tr>\n",
       "      <td>mean</td>\n",
       "      <td>9.952744e-17</td>\n",
       "      <td>-1.231371e-16</td>\n",
       "      <td>5.719018e-17</td>\n",
       "    </tr>\n",
       "    <tr>\n",
       "      <td>std</td>\n",
       "      <td>1.000000e+00</td>\n",
       "      <td>1.000000e+00</td>\n",
       "      <td>1.000000e+00</td>\n",
       "    </tr>\n",
       "    <tr>\n",
       "      <td>min</td>\n",
       "      <td>-1.731446e+00</td>\n",
       "      <td>-1.731446e+00</td>\n",
       "      <td>-1.731446e+00</td>\n",
       "    </tr>\n",
       "    <tr>\n",
       "      <td>25%</td>\n",
       "      <td>-8.657232e-01</td>\n",
       "      <td>-8.657232e-01</td>\n",
       "      <td>-8.657232e-01</td>\n",
       "    </tr>\n",
       "    <tr>\n",
       "      <td>50%</td>\n",
       "      <td>0.000000e+00</td>\n",
       "      <td>0.000000e+00</td>\n",
       "      <td>0.000000e+00</td>\n",
       "    </tr>\n",
       "    <tr>\n",
       "      <td>75%</td>\n",
       "      <td>8.657232e-01</td>\n",
       "      <td>8.657232e-01</td>\n",
       "      <td>8.657232e-01</td>\n",
       "    </tr>\n",
       "    <tr>\n",
       "      <td>max</td>\n",
       "      <td>1.731446e+00</td>\n",
       "      <td>1.731446e+00</td>\n",
       "      <td>1.731446e+00</td>\n",
       "    </tr>\n",
       "  </tbody>\n",
       "</table>\n",
       "</div>"
      ],
      "text/plain": [
       "         TotalSales    OrderCount  AvgOrderValue\n",
       "count  4.298000e+03  4.298000e+03   4.298000e+03\n",
       "mean   9.952744e-17 -1.231371e-16   5.719018e-17\n",
       "std    1.000000e+00  1.000000e+00   1.000000e+00\n",
       "min   -1.731446e+00 -1.731446e+00  -1.731446e+00\n",
       "25%   -8.657232e-01 -8.657232e-01  -8.657232e-01\n",
       "50%    0.000000e+00  0.000000e+00   0.000000e+00\n",
       "75%    8.657232e-01  8.657232e-01   8.657232e-01\n",
       "max    1.731446e+00  1.731446e+00   1.731446e+00"
      ]
     },
     "execution_count": 26,
     "metadata": {},
     "output_type": "execute_result"
    }
   ],
   "source": [
    "normalized_df.describe()"
   ]
  },
  {
   "cell_type": "code",
   "execution_count": 27,
   "metadata": {},
   "outputs": [],
   "source": [
    "#3. Customer Segmentation via K-Means Clustering"
   ]
  },
  {
   "cell_type": "code",
   "execution_count": 28,
   "metadata": {},
   "outputs": [],
   "source": [
    "from sklearn.cluster import KMeans"
   ]
  },
  {
   "cell_type": "code",
   "execution_count": 29,
   "metadata": {},
   "outputs": [
    {
     "data": {
      "text/plain": [
       "KMeans(algorithm='auto', copy_x=True, init='k-means++', max_iter=300,\n",
       "       n_clusters=4, n_init=10, n_jobs=None, precompute_distances='auto',\n",
       "       random_state=None, tol=0.0001, verbose=0)"
      ]
     },
     "execution_count": 29,
     "metadata": {},
     "output_type": "execute_result"
    }
   ],
   "source": [
    "kmeans = KMeans(n_clusters=4).fit(normalized_df[['TotalSales', 'OrderCount', 'AvgOrderValue']])\n",
    "kmeans"
   ]
  },
  {
   "cell_type": "code",
   "execution_count": 30,
   "metadata": {},
   "outputs": [
    {
     "data": {
      "text/plain": [
       "array([1, 0, 0, ..., 3, 2, 0], dtype=int32)"
      ]
     },
     "execution_count": 30,
     "metadata": {},
     "output_type": "execute_result"
    }
   ],
   "source": [
    "kmeans.labels_"
   ]
  },
  {
   "cell_type": "code",
   "execution_count": 31,
   "metadata": {},
   "outputs": [
    {
     "data": {
      "text/plain": [
       "array([[ 1.20630621,  1.00552238,  0.86837366],\n",
       "       [-0.13271459, -0.85015948,  0.79867905],\n",
       "       [ 0.21773456,  0.71494435, -0.64237996],\n",
       "       [-1.24645935, -0.79772735, -1.06106555]])"
      ]
     },
     "execution_count": 31,
     "metadata": {},
     "output_type": "execute_result"
    }
   ],
   "source": [
    "kmeans.cluster_centers_"
   ]
  },
  {
   "cell_type": "code",
   "execution_count": 34,
   "metadata": {},
   "outputs": [],
   "source": [
    "four_cluster_df = normalized_df[['TotalSales', 'OrderCount', 'AvgOrderValue']].copy(deep=True)\n",
    "four_cluster_df['Cluster'] = kmeans.labels_"
   ]
  },
  {
   "cell_type": "code",
   "execution_count": 37,
   "metadata": {},
   "outputs": [
    {
     "data": {
      "text/plain": [
       "Cluster\n",
       "0    1131\n",
       "1    1064\n",
       "2     953\n",
       "3    1150\n",
       "Name: TotalSales, dtype: int64"
      ]
     },
     "execution_count": 37,
     "metadata": {},
     "output_type": "execute_result"
    }
   ],
   "source": [
    "four_cluster_df.groupby('Cluster').count()['TotalSales']"
   ]
  },
  {
   "cell_type": "code",
   "execution_count": 38,
   "metadata": {},
   "outputs": [
    {
     "data": {
      "image/png": "[encoded data removed]",
      "text/plain": [
       "<Figure size 432x288 with 1 Axes>"
      ]
     },
     "metadata": {
      "needs_background": "light"
     },
     "output_type": "display_data"
    },
    {
     "data": {
      "image/png": "[encoded data removed]",
      "text/plain": [
       "<Figure size 432x288 with 1 Axes>"
      ]
     },
     "metadata": {
      "needs_background": "light"
     },
     "output_type": "display_data"
    },
    {
     "data": {
      "image/png": "[encoded data removed]",
      "text/plain": [
       "<Figure size 432x288 with 1 Axes>"
      ]
     },
     "metadata": {
      "needs_background": "light"
     },
     "output_type": "display_data"
    }
   ],
   "source": [
    "plt.scatter(\n",
    "    four_cluster_df.loc[four_cluster_df['Cluster'] == 0]['OrderCount'], \n",
    "    four_cluster_df.loc[four_cluster_df['Cluster'] == 0]['TotalSales'],\n",
    "    c='blue'\n",
    ")\n",
    "\n",
    "plt.scatter(\n",
    "    four_cluster_df.loc[four_cluster_df['Cluster'] == 1]['OrderCount'], \n",
    "    four_cluster_df.loc[four_cluster_df['Cluster'] == 1]['TotalSales'],\n",
    "    c='red'\n",
    ")\n",
    "\n",
    "plt.scatter(\n",
    "    four_cluster_df.loc[four_cluster_df['Cluster'] == 2]['OrderCount'], \n",
    "    four_cluster_df.loc[four_cluster_df['Cluster'] == 2]['TotalSales'],\n",
    "    c='orange'\n",
    ")\n",
    "\n",
    "plt.scatter(\n",
    "    four_cluster_df.loc[four_cluster_df['Cluster'] == 3]['OrderCount'], \n",
    "    four_cluster_df.loc[four_cluster_df['Cluster'] == 3]['TotalSales'],\n",
    "    c='green'\n",
    ")\n",
    "\n",
    "plt.title('TotalSales vs. OrderCount Clusters')\n",
    "plt.xlabel('Order Count')\n",
    "plt.ylabel('Total Sales')\n",
    "\n",
    "plt.grid()\n",
    "plt.show()\n",
    "\n",
    "\n",
    "plt.scatter(\n",
    "    four_cluster_df.loc[four_cluster_df['Cluster'] == 0]['OrderCount'], \n",
    "    four_cluster_df.loc[four_cluster_df['Cluster'] == 0]['AvgOrderValue'],\n",
    "    c='blue'\n",
    ")\n",
    "\n",
    "plt.scatter(\n",
    "    four_cluster_df.loc[four_cluster_df['Cluster'] == 1]['OrderCount'], \n",
    "    four_cluster_df.loc[four_cluster_df['Cluster'] == 1]['AvgOrderValue'],\n",
    "    c='red'\n",
    ")\n",
    "\n",
    "plt.scatter(\n",
    "    four_cluster_df.loc[four_cluster_df['Cluster'] == 2]['OrderCount'], \n",
    "    four_cluster_df.loc[four_cluster_df['Cluster'] == 2]['AvgOrderValue'],\n",
    "    c='orange'\n",
    ")\n",
    "\n",
    "plt.scatter(\n",
    "    four_cluster_df.loc[four_cluster_df['Cluster'] == 3]['OrderCount'], \n",
    "    four_cluster_df.loc[four_cluster_df['Cluster'] == 3]['AvgOrderValue'],\n",
    "    c='green'\n",
    ")\n",
    "\n",
    "plt.title('AvgOrderValue vs. OrderCount Clusters')\n",
    "plt.xlabel('Order Count')\n",
    "plt.ylabel('Avg Order Value')\n",
    "\n",
    "plt.grid()\n",
    "plt.show()\n",
    "\n",
    "\n",
    "plt.scatter(\n",
    "    four_cluster_df.loc[four_cluster_df['Cluster'] == 0]['TotalSales'], \n",
    "    four_cluster_df.loc[four_cluster_df['Cluster'] == 0]['AvgOrderValue'],\n",
    "    c='blue'\n",
    ")\n",
    "\n",
    "plt.scatter(\n",
    "    four_cluster_df.loc[four_cluster_df['Cluster'] == 1]['TotalSales'], \n",
    "    four_cluster_df.loc[four_cluster_df['Cluster'] == 1]['AvgOrderValue'],\n",
    "    c='red'\n",
    ")\n",
    "\n",
    "plt.scatter(\n",
    "    four_cluster_df.loc[four_cluster_df['Cluster'] == 2]['TotalSales'], \n",
    "    four_cluster_df.loc[four_cluster_df['Cluster'] == 2]['AvgOrderValue'],\n",
    "    c='orange'\n",
    ")\n",
    "\n",
    "plt.scatter(\n",
    "    four_cluster_df.loc[four_cluster_df['Cluster'] == 3]['TotalSales'], \n",
    "    four_cluster_df.loc[four_cluster_df['Cluster'] == 3]['AvgOrderValue'],\n",
    "    c='green'\n",
    ")\n",
    "\n",
    "plt.title('AvgOrderValue vs. TotalSales Clusters')\n",
    "plt.xlabel('Total Sales')\n",
    "plt.ylabel('Avg Order Value')\n",
    "\n",
    "plt.grid()\n",
    "plt.show()"
   ]
  },
  {
   "cell_type": "code",
   "execution_count": 39,
   "metadata": {},
   "outputs": [
    {
     "name": "stdout",
     "output_type": "stream",
     "text": [
      "Silhouette Score for 4 Clusters: 0.4112\n",
      "Silhouette Score for 5 Clusters: 0.3779\n",
      "Silhouette Score for 6 Clusters: 0.3784\n",
      "Silhouette Score for 7 Clusters: 0.3913\n",
      "Silhouette Score for 8 Clusters: 0.3809\n"
     ]
    }
   ],
   "source": [
    "#- Selecting the best number of clusters\n",
    "from sklearn.metrics import silhouette_score\n",
    "\n",
    "for n_cluster in [4,5,6,7,8]:\n",
    "    kmeans = KMeans(n_clusters=n_cluster).fit(\n",
    "        normalized_df[['TotalSales', 'OrderCount', 'AvgOrderValue']]\n",
    "    )\n",
    "    silhouette_avg = silhouette_score(\n",
    "        normalized_df[['TotalSales', 'OrderCount', 'AvgOrderValue']], \n",
    "        kmeans.labels_\n",
    "    )\n",
    "    \n",
    "    print('Silhouette Score for %i Clusters: %0.4f' % (n_cluster, silhouette_avg))\n",
    "\n",
    "#In our case, of the five different numbers of clusters we have experimented with, the best number of clusters with the highest silhouette score was 4.\n",
    "#silhouette score:最佳值为1，最差值为-1。接近0的值表示重叠的群集。负值通常表示样本已分配给错误的聚类，因为不同的聚类更为相似。\n"
   ]
  },
  {
   "cell_type": "code",
   "execution_count": 40,
   "metadata": {},
   "outputs": [],
   "source": [
    "#- Interpreting Customer Segments\n",
    "kmeans = KMeans(n_clusters=4).fit(\n",
    "    normalized_df[['TotalSales', 'OrderCount', 'AvgOrderValue']]\n",
    ")\n",
    "\n",
    "four_cluster_df = normalized_df[['TotalSales', 'OrderCount', 'AvgOrderValue']].copy(deep=True)\n",
    "four_cluster_df['Cluster'] = kmeans.labels_"
   ]
  },
  {
   "cell_type": "code",
   "execution_count": 41,
   "metadata": {},
   "outputs": [
    {
     "data": {
      "text/html": [
       "<div>\n",
       "<style scoped>\n",
       "    .dataframe tbody tr th:only-of-type {\n",
       "        vertical-align: middle;\n",
       "    }\n",
       "\n",
       "    .dataframe tbody tr th {\n",
       "        vertical-align: top;\n",
       "    }\n",
       "\n",
       "    .dataframe thead th {\n",
       "        text-align: right;\n",
       "    }\n",
       "</style>\n",
       "<table border=\"1\" class=\"dataframe\">\n",
       "  <thead>\n",
       "    <tr style=\"text-align: right;\">\n",
       "      <th></th>\n",
       "      <th>TotalSales</th>\n",
       "      <th>OrderCount</th>\n",
       "      <th>AvgOrderValue</th>\n",
       "      <th>Cluster</th>\n",
       "    </tr>\n",
       "    <tr>\n",
       "      <th>CustomerID</th>\n",
       "      <th></th>\n",
       "      <th></th>\n",
       "      <th></th>\n",
       "      <th></th>\n",
       "    </tr>\n",
       "  </thead>\n",
       "  <tbody>\n",
       "    <tr>\n",
       "      <td>12353.0</td>\n",
       "      <td>-1.636352</td>\n",
       "      <td>-1.729029</td>\n",
       "      <td>-1.570269</td>\n",
       "      <td>2</td>\n",
       "    </tr>\n",
       "    <tr>\n",
       "      <td>12361.0</td>\n",
       "      <td>-1.243079</td>\n",
       "      <td>-1.724999</td>\n",
       "      <td>-0.776471</td>\n",
       "      <td>2</td>\n",
       "    </tr>\n",
       "    <tr>\n",
       "      <td>12375.0</td>\n",
       "      <td>-0.392870</td>\n",
       "      <td>-0.488770</td>\n",
       "      <td>-0.433970</td>\n",
       "      <td>2</td>\n",
       "    </tr>\n",
       "    <tr>\n",
       "      <td>12386.0</td>\n",
       "      <td>-0.524229</td>\n",
       "      <td>-0.485546</td>\n",
       "      <td>-0.667677</td>\n",
       "      <td>2</td>\n",
       "    </tr>\n",
       "    <tr>\n",
       "      <td>12401.0</td>\n",
       "      <td>-1.644411</td>\n",
       "      <td>-1.719358</td>\n",
       "      <td>-1.586387</td>\n",
       "      <td>2</td>\n",
       "    </tr>\n",
       "  </tbody>\n",
       "</table>\n",
       "</div>"
      ],
      "text/plain": [
       "            TotalSales  OrderCount  AvgOrderValue  Cluster\n",
       "CustomerID                                                \n",
       "12353.0      -1.636352   -1.729029      -1.570269        2\n",
       "12361.0      -1.243079   -1.724999      -0.776471        2\n",
       "12375.0      -0.392870   -0.488770      -0.433970        2\n",
       "12386.0      -0.524229   -0.485546      -0.667677        2\n",
       "12401.0      -1.644411   -1.719358      -1.586387        2"
      ]
     },
     "execution_count": 41,
     "metadata": {},
     "output_type": "execute_result"
    }
   ],
   "source": [
    "high_value_cluster = four_cluster_df.loc[four_cluster_df['Cluster'] == 2]\n",
    "high_value_cluster.head()"
   ]
  },
  {
   "cell_type": "code",
   "execution_count": 42,
   "metadata": {},
   "outputs": [
    {
     "data": {
      "text/html": [
       "<div>\n",
       "<style scoped>\n",
       "    .dataframe tbody tr th:only-of-type {\n",
       "        vertical-align: middle;\n",
       "    }\n",
       "\n",
       "    .dataframe tbody tr th {\n",
       "        vertical-align: top;\n",
       "    }\n",
       "\n",
       "    .dataframe thead th {\n",
       "        text-align: right;\n",
       "    }\n",
       "</style>\n",
       "<table border=\"1\" class=\"dataframe\">\n",
       "  <thead>\n",
       "    <tr style=\"text-align: right;\">\n",
       "      <th></th>\n",
       "      <th>TotalSales</th>\n",
       "      <th>OrderCount</th>\n",
       "      <th>AvgOrderValue</th>\n",
       "    </tr>\n",
       "  </thead>\n",
       "  <tbody>\n",
       "    <tr>\n",
       "      <td>count</td>\n",
       "      <td>1166.000000</td>\n",
       "      <td>1166.000000</td>\n",
       "      <td>1166.000000</td>\n",
       "    </tr>\n",
       "    <tr>\n",
       "      <td>mean</td>\n",
       "      <td>194.297118</td>\n",
       "      <td>1.336192</td>\n",
       "      <td>152.775923</td>\n",
       "    </tr>\n",
       "    <tr>\n",
       "      <td>std</td>\n",
       "      <td>92.031455</td>\n",
       "      <td>0.577261</td>\n",
       "      <td>63.186141</td>\n",
       "    </tr>\n",
       "    <tr>\n",
       "      <td>min</td>\n",
       "      <td>0.000000</td>\n",
       "      <td>1.000000</td>\n",
       "      <td>0.000000</td>\n",
       "    </tr>\n",
       "    <tr>\n",
       "      <td>25%</td>\n",
       "      <td>124.647500</td>\n",
       "      <td>1.000000</td>\n",
       "      <td>108.131250</td>\n",
       "    </tr>\n",
       "    <tr>\n",
       "      <td>50%</td>\n",
       "      <td>183.775000</td>\n",
       "      <td>1.000000</td>\n",
       "      <td>151.840000</td>\n",
       "    </tr>\n",
       "    <tr>\n",
       "      <td>75%</td>\n",
       "      <td>250.972500</td>\n",
       "      <td>2.000000</td>\n",
       "      <td>198.648750</td>\n",
       "    </tr>\n",
       "    <tr>\n",
       "      <td>max</td>\n",
       "      <td>483.800000</td>\n",
       "      <td>6.000000</td>\n",
       "      <td>292.470000</td>\n",
       "    </tr>\n",
       "  </tbody>\n",
       "</table>\n",
       "</div>"
      ],
      "text/plain": [
       "        TotalSales   OrderCount  AvgOrderValue\n",
       "count  1166.000000  1166.000000    1166.000000\n",
       "mean    194.297118     1.336192     152.775923\n",
       "std      92.031455     0.577261      63.186141\n",
       "min       0.000000     1.000000       0.000000\n",
       "25%     124.647500     1.000000     108.131250\n",
       "50%     183.775000     1.000000     151.840000\n",
       "75%     250.972500     2.000000     198.648750\n",
       "max     483.800000     6.000000     292.470000"
      ]
     },
     "execution_count": 42,
     "metadata": {},
     "output_type": "execute_result"
    }
   ],
   "source": [
    "customer_df.loc[high_value_cluster.index].describe()"
   ]
  },
  {
   "cell_type": "code",
   "execution_count": 43,
   "metadata": {},
   "outputs": [
    {
     "data": {
      "text/html": [
       "<div>\n",
       "<style scoped>\n",
       "    .dataframe tbody tr th:only-of-type {\n",
       "        vertical-align: middle;\n",
       "    }\n",
       "\n",
       "    .dataframe tbody tr th {\n",
       "        vertical-align: top;\n",
       "    }\n",
       "\n",
       "    .dataframe thead th {\n",
       "        text-align: right;\n",
       "    }\n",
       "</style>\n",
       "<table border=\"1\" class=\"dataframe\">\n",
       "  <thead>\n",
       "    <tr style=\"text-align: right;\">\n",
       "      <th></th>\n",
       "      <th>StockCode</th>\n",
       "    </tr>\n",
       "    <tr>\n",
       "      <th>Description</th>\n",
       "      <th></th>\n",
       "    </tr>\n",
       "  </thead>\n",
       "  <tbody>\n",
       "    <tr>\n",
       "      <td>REX CASH+CARRY JUMBO SHOPPER</td>\n",
       "      <td>139</td>\n",
       "    </tr>\n",
       "    <tr>\n",
       "      <td>WHITE HANGING HEART T-LIGHT HOLDER</td>\n",
       "      <td>137</td>\n",
       "    </tr>\n",
       "    <tr>\n",
       "      <td>REGENCY CAKESTAND 3 TIER</td>\n",
       "      <td>81</td>\n",
       "    </tr>\n",
       "    <tr>\n",
       "      <td>ASSORTED COLOUR BIRD ORNAMENT</td>\n",
       "      <td>78</td>\n",
       "    </tr>\n",
       "    <tr>\n",
       "      <td>BAKING SET 9 PIECE RETROSPOT</td>\n",
       "      <td>72</td>\n",
       "    </tr>\n",
       "  </tbody>\n",
       "</table>\n",
       "</div>"
      ],
      "text/plain": [
       "                                    StockCode\n",
       "Description                                  \n",
       "REX CASH+CARRY JUMBO SHOPPER              139\n",
       "WHITE HANGING HEART T-LIGHT HOLDER        137\n",
       "REGENCY CAKESTAND 3 TIER                   81\n",
       "ASSORTED COLOUR BIRD ORNAMENT              78\n",
       "BAKING SET 9 PIECE RETROSPOT               72"
      ]
     },
     "execution_count": 43,
     "metadata": {},
     "output_type": "execute_result"
    }
   ],
   "source": [
    "pd.DataFrame(\n",
    "    df.loc[\n",
    "        df['CustomerID'].isin(high_value_cluster.index)\n",
    "    ].groupby('Description').count()[\n",
    "        'StockCode'\n",
    "    ].sort_values(ascending=False).head()\n",
    ")"
   ]
  },
  {
   "cell_type": "code",
   "execution_count": 44,
   "metadata": {},
   "outputs": [
    {
     "data": {
      "text/html": [
       "<div>\n",
       "<style scoped>\n",
       "    .dataframe tbody tr th:only-of-type {\n",
       "        vertical-align: middle;\n",
       "    }\n",
       "\n",
       "    .dataframe tbody tr th {\n",
       "        vertical-align: top;\n",
       "    }\n",
       "\n",
       "    .dataframe thead th {\n",
       "        text-align: right;\n",
       "    }\n",
       "</style>\n",
       "<table border=\"1\" class=\"dataframe\">\n",
       "  <thead>\n",
       "    <tr style=\"text-align: right;\">\n",
       "      <th></th>\n",
       "      <th>StockCode</th>\n",
       "    </tr>\n",
       "    <tr>\n",
       "      <th>Description</th>\n",
       "      <th></th>\n",
       "    </tr>\n",
       "  </thead>\n",
       "  <tbody>\n",
       "    <tr>\n",
       "      <td>JUMBO BAG RED RETROSPOT</td>\n",
       "      <td>1129</td>\n",
       "    </tr>\n",
       "    <tr>\n",
       "      <td>REGENCY CAKESTAND 3 TIER</td>\n",
       "      <td>1079</td>\n",
       "    </tr>\n",
       "    <tr>\n",
       "      <td>WHITE HANGING HEART T-LIGHT HOLDER</td>\n",
       "      <td>1065</td>\n",
       "    </tr>\n",
       "    <tr>\n",
       "      <td>LUNCH BAG RED RETROSPOT</td>\n",
       "      <td>923</td>\n",
       "    </tr>\n",
       "    <tr>\n",
       "      <td>PARTY BUNTING</td>\n",
       "      <td>858</td>\n",
       "    </tr>\n",
       "  </tbody>\n",
       "</table>\n",
       "</div>"
      ],
      "text/plain": [
       "                                    StockCode\n",
       "Description                                  \n",
       "JUMBO BAG RED RETROSPOT                  1129\n",
       "REGENCY CAKESTAND 3 TIER                 1079\n",
       "WHITE HANGING HEART T-LIGHT HOLDER       1065\n",
       "LUNCH BAG RED RETROSPOT                   923\n",
       "PARTY BUNTING                             858"
      ]
     },
     "execution_count": 44,
     "metadata": {},
     "output_type": "execute_result"
    }
   ],
   "source": [
    "pd.DataFrame(\n",
    "    df.loc[\n",
    "        df['CustomerID'].isin(\n",
    "            four_cluster_df.loc[four_cluster_df['Cluster'] == 3].index\n",
    "        )\n",
    "    ].groupby('Description').count()[\n",
    "        'StockCode'\n",
    "    ].sort_values(ascending=False).head()\n",
    ")"
   ]
  },
  {
   "cell_type": "code",
   "execution_count": null,
   "metadata": {},
   "outputs": [],
   "source": []
  },
  {
   "cell_type": "code",
   "execution_count": null,
   "metadata": {},
   "outputs": [],
   "source": []
  },
  {
   "cell_type": "code",
   "execution_count": null,
   "metadata": {},
   "outputs": [],
   "source": []
  },
  {
   "cell_type": "code",
   "execution_count": null,
   "metadata": {},
   "outputs": [],
   "source": []
  },
  {
   "cell_type": "code",
   "execution_count": null,
   "metadata": {},
   "outputs": [],
   "source": []
  }
 ],
 "metadata": {
  "kernelspec": {
   "display_name": "Python 3",
   "language": "python",
   "name": "python3"
  },
  "language_info": {
   "codemirror_mode": {
    "name": "ipython",
    "version": 3
   },
   "file_extension": ".py",
   "mimetype": "text/x-python",
   "name": "python",
   "nbconvert_exporter": "python",
   "pygments_lexer": "ipython3",
   "version": "3.7.4"
  }
 },
 "nbformat": 4,
 "nbformat_minor": 2
}
